{
 "cells": [
  {
   "cell_type": "code",
   "execution_count": 4,
   "id": "58589b6c",
   "metadata": {},
   "outputs": [
    {
     "name": "stderr",
     "output_type": "stream",
     "text": [
      "/opt/conda/lib/python3.8/site-packages/elasticsearch/connection/base.py:200: ElasticsearchWarning: Elasticsearch built-in security features are not enabled. Without authentication, your cluster could be accessible to anyone. See https://www.elastic.co/guide/en/elasticsearch/reference/7.16/security-minimal-setup.html to enable security.\n",
      "  warnings.warn(message, category=ElasticsearchWarning)\n"
     ]
    },
    {
     "data": {
      "text/plain": [
       "{'acknowledged': True}"
      ]
     },
     "execution_count": 4,
     "metadata": {},
     "output_type": "execute_result"
    }
   ],
   "source": [
    "from elasticsearch import Elasticsearch, helpers\n",
    "\n",
    "es = Elasticsearch()\n",
    "\n",
    "es.indices.delete(index='wiki_index', ignore=[400, 404])"
   ]
  },
  {
   "cell_type": "code",
   "execution_count": 12,
   "id": "161c4b9d",
   "metadata": {},
   "outputs": [
    {
     "name": "stdout",
     "output_type": "stream",
     "text": [
      "{'_id': '836334',\n",
      " '_index': 'news_wiki_index',\n",
      " '_primary_term': 1,\n",
      " '_seq_no': 836334,\n",
      " '_source': {'context': \"[ 스타투데이 황승빈 ]'비정상회담'에 출연한 강지영(28) 아나운서가 '안경 여신'미모를 \"\n",
      "                        \"뽐냈다.지난 11일 방송된 JTBC 예능 '비정상회담'에서는 강지영 JTBC 아나운서와 KBS \"\n",
      "                        '아나운서 출신 방송인 조우종이 출연해 숨겨둔 입담을 뽐냈다.이날 방송에서 강지영 아나운서는 '\n",
      "                        '\\'안경여신\\'으로 화제를 모은 데 대해 \"\\'정치부 회의\\'에서 \\'톡 쏘는 정치\\'라는 '\n",
      "                        '코너를 진행하고 있는데, 거기서 발제 형식 따라한다고 안경을 써서 전문가 콘셉트를 했다\"고 '\n",
      "                        '설명했다. 이어 강지영 아나운서는 \"원래 눈이 나쁘다. (평소엔) 렌즈를 착용한다. 사실 그 '\n",
      "                        '안경은 알이 없다\"고 고백했다. 조우종 역시 \"저도 알이 없다\"고 거들어 웃음을 자아냈다.이에 '\n",
      "                        '자히드 후세인은 자신의 패션 안경을 강지영에게 건넸고, 강지영 아나운서가 이를 써보자 '\n",
      "                        '스튜디오에는 탄성이 흘러 나왔다. 이어 조우종의 안경도 착용하며 또 다른 지적인 매력을 '\n",
      "                        \"과시했다.한편, 강지영 아나운서는 2011년 MBC 아나운서 공개 오디션 '신입사원'에 출연해 \"\n",
      "                        \"아쉽게 탈락한 뒤 JTBC 아나운서로 입사했다[ ]강지영, 안경 써도 '여신'\"},\n",
      " '_type': '_doc',\n",
      " '_version': 1,\n",
      " 'found': True}\n"
     ]
    }
   ],
   "source": [
    "import pprint\n",
    "doc = es.get(index='news_wiki_index', id=836334)\n",
    "pprint.pprint(doc)"
   ]
  }
 ],
 "metadata": {
  "kernelspec": {
   "display_name": "Python 3",
   "language": "python",
   "name": "python3"
  },
  "language_info": {
   "codemirror_mode": {
    "name": "ipython",
    "version": 3
   },
   "file_extension": ".py",
   "mimetype": "text/x-python",
   "name": "python",
   "nbconvert_exporter": "python",
   "pygments_lexer": "ipython3",
   "version": "3.8.5"
  }
 },
 "nbformat": 4,
 "nbformat_minor": 5
}
