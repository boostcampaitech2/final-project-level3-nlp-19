{
 "nbformat": 4,
 "nbformat_minor": 2,
 "metadata": {
  "language_info": {
   "name": "python",
   "codemirror_mode": {
    "name": "ipython",
    "version": 3
   },
   "version": "3.7.11-final"
  },
  "orig_nbformat": 2,
  "file_extension": ".py",
  "mimetype": "text/x-python",
  "name": "python",
  "npconvert_exporter": "python",
  "pygments_lexer": "ipython3",
  "version": 3,
  "kernelspec": {
   "name": "lightweight",
   "display_name": "lightweight"
  }
 },
 "cells": [
  {
   "cell_type": "code",
   "execution_count": 4,
   "metadata": {},
   "outputs": [
    {
     "name": "stderr",
     "output_type": "stream",
     "text": "2021-12-20 22:00:35.575829: W tensorflow/stream_executor/platform/default/dso_loader.cc:64] Could not load dynamic library 'libcudart.so.11.0'; dlerror: libcudart.so.11.0: cannot open shared object file: No such file or directory\n2021-12-20 22:00:35.575886: I tensorflow/stream_executor/cuda/cudart_stub.cc:29] Ignore above cudart dlerror if you do not have a GPU set up on your machine.\n2021-12-20 22:00:36.730212: I tensorflow/stream_executor/platform/default/dso_loader.cc:53] Successfully opened dynamic library libcuda.so.1\n2021-12-20 22:00:37.446313: I tensorflow/stream_executor/cuda/cuda_gpu_executor.cc:937] successful NUMA node read from SysFS had negative value (-1), but there must be at least one NUMA node, so returning NUMA node zero\n2021-12-20 22:00:37.448062: I tensorflow/core/common_runtime/gpu/gpu_device.cc:1733] Found device 0 with properties: \npciBusID: 0000:00:05.0 name: Tesla V100-SXM2-32GB computeCapability: 7.0\ncoreClock: 1.53GHz coreCount: 80 deviceMemorySize: 31.75GiB deviceMemoryBandwidth: 836.37GiB/s\n2021-12-20 22:00:37.448206: W tensorflow/stream_executor/platform/default/dso_loader.cc:64] Could not load dynamic library 'libcudart.so.11.0'; dlerror: libcudart.so.11.0: cannot open shared object file: No such file or directory\n2021-12-20 22:00:37.448262: W tensorflow/stream_executor/platform/default/dso_loader.cc:64] Could not load dynamic library 'libcublas.so.11'; dlerror: libcublas.so.11: cannot open shared object file: No such file or directory\n2021-12-20 22:00:37.448305: W tensorflow/stream_executor/platform/default/dso_loader.cc:64] Could not load dynamic library 'libcublasLt.so.11'; dlerror: libcublasLt.so.11: cannot open shared object file: No such file or directory\n2021-12-20 22:00:37.448347: W tensorflow/stream_executor/platform/default/dso_loader.cc:64] Could not load dynamic library 'libcufft.so.10'; dlerror: libcufft.so.10: cannot open shared object file: No such file or directory\n2021-12-20 22:00:37.448389: W tensorflow/stream_executor/platform/default/dso_loader.cc:64] Could not load dynamic library 'libcurand.so.10'; dlerror: libcurand.so.10: cannot open shared object file: No such file or directory\n2021-12-20 22:00:37.448432: W tensorflow/stream_executor/platform/default/dso_loader.cc:64] Could not load dynamic library 'libcusolver.so.11'; dlerror: libcusolver.so.11: cannot open shared object file: No such file or directory\n2021-12-20 22:00:37.448473: W tensorflow/stream_executor/platform/default/dso_loader.cc:64] Could not load dynamic library 'libcusparse.so.11'; dlerror: libcusparse.so.11: cannot open shared object file: No such file or directory\n2021-12-20 22:00:37.448516: W tensorflow/stream_executor/platform/default/dso_loader.cc:64] Could not load dynamic library 'libcudnn.so.8'; dlerror: libcudnn.so.8: cannot open shared object file: No such file or directory\n2021-12-20 22:00:37.448527: W tensorflow/core/common_runtime/gpu/gpu_device.cc:1766] Cannot dlopen some GPU libraries. Please make sure the missing libraries mentioned above are installed properly if you would like to use GPU. Follow the guide at https://www.tensorflow.org/install/gpu for how to download and setup the required libraries for your platform.\nSkipping registering GPU devices...\n2021-12-20 22:00:37.449275: I tensorflow/core/platform/cpu_feature_guard.cc:142] This TensorFlow binary is optimized with oneAPI Deep Neural Network Library (oneDNN) to use the following CPU instructions in performance-critical operations:  AVX2 FMA\nTo enable them in other operations, rebuild TensorFlow with the appropriate compiler flags.\n2021-12-20 22:00:37.450811: I tensorflow/core/common_runtime/gpu/gpu_device.cc:1258] Device interconnect StreamExecutor with strength 1 edge matrix:\n2021-12-20 22:00:37.450836: I tensorflow/core/common_runtime/gpu/gpu_device.cc:1264]      \n"
    }
   ],
   "source": [
    "from news_preprocessing import *"
   ]
  },
  {
   "cell_type": "code",
   "execution_count": 16,
   "metadata": {},
   "outputs": [],
   "source": [
    "import os"
   ]
  },
  {
   "cell_type": "code",
   "execution_count": 14,
   "metadata": {},
   "outputs": [
    {
     "data": {
      "text/plain": "'/opt/ml/code/final-project-level3-nlp-19/code/experiment'"
     },
     "execution_count": 14,
     "metadata": {},
     "output_type": "execute_result"
    }
   ],
   "source": [
    "os.getcwd()"
   ]
  },
  {
   "cell_type": "code",
   "execution_count": 6,
   "metadata": {},
   "outputs": [],
   "source": [
    "simple_text = \"[OSEN=강서정 기자] 김준희, 한혜진, 경리 등의 SNS는 그야말로 ‘다이어트 자극사진’으로 가득하다. 운동하는 모습을 담은 사진을 공개하거나 운동으로 탄탄해진 몸매를 자랑하는 이들의 사진을 보고 있으면 절로 감탄이 나올 정도다.◆ 한혜진한혜진은 놀라울 정도로 열심히 운동하는 모델이다. 자신의 몸매관리를 위해 꾸준히 노력하고 화보 촬영 전에는 한 달 동안 쌀과 반찬을 안 먹을 정도로 철저하다. 그가 SNS에 게재한 등근육 사진이 크게 화제가 되기도 했다.◆ 김준희김준희의 SNS는 ‘다이어트의 정석’이다. 운동하는 모습부터 식단까지 모든 것이 담겨있다. 닭가슴살과 샐러드에 지친 다이어터라면 김준희의 SNS을 팔로우하는 것도 좋을 듯하다. 거기다 운동으로 다져진 몸매를 보고 있으면 운동욕구가 무한 자극된다.◆ 장윤주장윤주는 완벽한 비율과 각선미를 자랑하는데 여기에는 그의 피나는 노력이 있었다. 방송에서 출산 후 몸매를 만들기 위해 필라테스를 하는 모습이 공개되기도 했다. 특히 출산 후에도 여전한 몸매를 자랑하는 그는 주부들의 다이어트를 자극하기도.◆ 손나은손나은은 굴곡진 몸매가 돋보이는 아이돌이다. 다이어트 식품 모델로도 활동하고 있는 손나은은 데뷔 초와 달리 늘씬한 몸매로 부러움을 사고 있다.◆ 제시가슴 성형수술을 당당하게 고백한 제시는 볼륨 있는 몸매를 자랑한다. 하지만 그의 잘록한 허리도 감탄을 자아낼 정도. 비키니부터 트레이닝복까지 완벽하게 소화하는 몸매의 소유자다.◆ 신수지신수지는 리듬체조 전 국가대표 출신답게 탄탄하면서도 볼륨감 있는 몸매가 돋보인다. SNS에서 플라잉 요가로 유연한 몸을 뽐내는 것은 물론 부러움을 자아내는 각선미가 눈길을 끈다.◆ 경리경리는 잘록한 허리가 돋보이는 S라인 몸매가 매력적이다. 몸매가 드러나는 의상을 입어도 전혀 굴욕 없는 몸매는 여성들의 워너비다. /kangsj@osen.co.kr[사진] 김준희, 한혜진, 장윤주, 손나은, 제시, 신수지, 경리 인스타그램', 'question': '손나은은 무슨 모델로도 활동하고 있는가?\""
   ]
  },
  {
   "cell_type": "code",
   "execution_count": 3,
   "metadata": {},
   "outputs": [
    {
     "name": "stderr",
     "output_type": "stream",
     "text": "2021-12-20 21:30:17.368641: W tensorflow/stream_executor/platform/default/dso_loader.cc:64] Could not load dynamic library 'libcudart.so.11.0'; dlerror: libcudart.so.11.0: cannot open shared object file: No such file or directory\n2021-12-20 21:30:17.368695: I tensorflow/stream_executor/cuda/cudart_stub.cc:29] Ignore above cudart dlerror if you do not have a GPU set up on your machine.\n"
    }
   ],
   "source": [
    "from transformers import AutoTokeniz"
   ]
  },
  {
   "cell_type": "code",
   "execution_count": 4,
   "metadata": {},
   "outputs": [],
   "source": [
    "tokenizer = AutoTokenizer.from_pretrained('klue/bert-bas')"
   ]
  },
  {
   "cell_type": "code",
   "execution_count": 5,
   "metadata": {},
   "outputs": [
    {
     "name": "stderr",
     "output_type": "stream",
     "text": "Token indices sequence length is longer than the specified maximum sequence length for this model (534 > 512). Running this sequence through the model will result in indexing errors\n['[', 'OS', '##EN', '=', '강서', '##정', '기자', ']', '김준', '##희', ',', '한', '##혜진', ',', '경리', '등', '##의', 'SNS', '##는', '그야말로', '‘', '다이어트', '자극', '##사진', '’', '으로', '가득', '##하', '##다', '.', '운동', '##하', '##는', '모습', '##을', '담', '##은', '사진', '##을', '공개', '##하', '##거나', '운동', '##으로', '탄탄', '##해진', '몸매', '##를', '자랑', '##하', '##는', '이', '##들', '##의', '사진', '##을', '보고', '있', '##으면', '절로', '감탄', '##이', '나올', '정도', '##다', '.', '◆', '한', '##혜진', '##한', '##혜진', '##은', '놀라울', '정도', '##로', '열심히', '운동', '##하', '##는', '모델', '##이다', '.', '자신', '##의', '몸매', '##관리', '##를', '위해', '꾸준히', '노력', '##하고', '화보', '촬영', '전', '##에', '##는', '한', '달', '동안', '쌀', '##과', '반찬', '##을', '안', '먹', '##을', '정도', '##로', '철저', '##하', '##다', '.', '그', '##가', 'SNS', '##에', '게재', '##한', '등', '##근', '##육', '사진', '##이', '크', '##게', '화제', '##가', '되', '##기', '##도', '했', '##다', '.', '◆', '김준', '##희', '##김', '##준', '##희', '##의', 'SNS', '##는', '‘', '다이어트', '##의', '정석', '’', '이다', '.', '운동', '##하', '##는', '모습', '##부터', '식단', '##까', '##지', '모든', '것', '##이', '담겨', '##있', '##다', '.', '닭', '##가슴', '##살', '##과', '샐러드', '##에', '지친', '다이어터', '##라면', '김준', '##희', '##의', 'SNS', '##을', '팔로우', '##하', '##는', '것', '##도', '좋', '##을', '듯', '##하', '##다', '.', '거기', '##다', '운동', '##으로', '다져', '##진', '몸매', '##를', '보고', '있', '##으면', '운동', '##욕', '##구', '##가', '무한', '자극', '##된', '##다', '.', '◆', '장윤', '##주', '##장', '##윤', '##주', '##는', '완벽', '##한', '비율', '##과', '각', '##선미', '##를', '자랑', '##하', '##는데', '여기', '##에', '##는', '그', '##의', '피나', '##는', '노력', '##이', '있', '##었', '##다', '.', '방송', '##에서', '출산', '후', '몸매', '##를', '만들', '##기', '위해', '필라테스', '##를', '하', '##는', '모습', '##이', '공개', '##되', '##기', '##도', '했', '##다', '.', '특히', '출산', '후', '##에도', '여전', '##한', '몸매', '##를', '자랑', '##하', '##는', '그', '##는', '주부', '##들', '##의', '다이어트', '##를', '자극', '##하기', '##도', '.', '◆', '손', '##나', '##은', '##손', '##나', '##은', '##은', '굴곡', '##진', '몸매', '##가', '돋보이', '##는', '아이돌', '##이다', '.', '다이어트', '식품', '모델', '##로', '##도', '활동', '##하고', '있', '##는', '손', '##나', '##은', '##은', '데뷔', '초', '##와', '달리', '늘', '##씬', '##한', '몸매', '##로', '부러움', '##을', '사고', '있', '##다', '.', '◆', '제시', '##가슴', '성형수술', '##을', '당당', '##하', '##게', '고백', '##한', '제시', '##는', '볼륨', '있', '##는', '몸매', '##를', '자랑', '##한다', '.', '하지만', '그', '##의', '잘', '##록', '##한', '허리', '##도', '감탄', '##을', '자아', '##낼', '정도', '.', '비키니', '##부터', '트레이닝', '##복', '##까', '##지', '완벽', '##하', '##게', '소화', '##하', '##는', '몸매', '##의', '소유자', '##다', '.', '◆', '신수', '##지', '##신', '##수지', '##는', '리듬', '##체', '##조', '전', '국가', '##대표', '출신', '##답', '##게', '탄탄', '##하면', '##서', '##도', '볼륨', '##감', '있', '##는', '몸매', '##가', '돋보인다', '.', 'SNS', '##에서', '플라', '##잉', '요가', '##로', '유연', '##한', '몸', '##을', '뽐내', '##는', '것', '##은', '물론', '부러움', '##을', '자아내', '##는', '각', '##선미', '##가', '눈길', '##을', '끈다', '.', '◆', '경리', '##경', '##리', '##는', '잘', '##록', '##한', '허리', '##가', '돋보이', '##는', 'S', '##라인', '몸매', '##가', '매력', '##적', '##이다', '.', '몸매', '##가', '드러나', '##는', '의상', '##을', '입', '##어도', '전혀', '굴욕', '없', '##는', '몸매', '##는', '여성', '##들', '##의', '워너', '##비', '##다', '.', '/', 'k', '##ang', '##s', '##j', '@', 'o', '##se', '##n', '.', 'co', '.', 'kr', '[', '사진', ']', '김준', '##희', ',', '한', '##혜진', ',', '장윤', '##주', ',', '손', '##나', '##은', ',', '제시', ',', '신수', '##지', ',', '경리', '인스', '##타', '##그램', \"'\", ',', \"'\", 'qu', '##est', '##ion', \"'\", ':', \"'\", '손', '##나', '##은', '##은', '무슨', '모델', '##로', '##도', '활동', '##하고', '있', '##는', '##가', '?']\n"
    }
   ],
   "source": [
    "tokens = tokenizer.tokenize(simple_text)\n",
    "print(tokens)"
   ]
  },
  {
   "cell_type": "code",
   "execution_count": 2,
   "metadata": {},
   "outputs": [
    {
     "ename": "SyntaxError",
     "evalue": "EOL while scanning string literal (705112881.py, line 1)",
     "output_type": "error",
     "traceback": [
      "\u001b[0;36m  File \u001b[0;32m\"/tmp/ipykernel_57249/705112881.py\"\u001b[0;36m, line \u001b[0;32m1\u001b[0m\n\u001b[0;31m    simple_text2 = \"[IMG1][이슈데일리 최준용기자]민경훈이 정규 2집 앨범 ‘소풍’을 통해 1년 4개월 만에 가요계에 컴백했다. 민경훈의 ‘소풍’은 27일 자정, 전 온라인 음원 사이트를 통해 공개됐다. 이번에 공개된 앨범에는 총 10곡 이 수록됐으며, 각 각의 곡 모두 다른 분위기와 창법으로 차별화를 시도했다. 특히 민경훈은 이번 앨범에서 직접 프로듀싱에 나섰으며, 자작곡은 물론 유명 작곡가 김도훈, 전해성, 김세진, 이창현, 더 네임, 강우현, 오승은, 스웨덴의 작곡가 Hal Marabel, Jonas Reingold 등이 참여해 완성도를 높였다. 타이틀곡인 ‘쉬(She)’는 김도훈과 최갑원이 작곡, 작사한 곡으로 여름과 어울리는 시원하고 빠른 템포의 곡이다. 또 이 곡은 사랑하는 사람에 대한 고백송으로 민경훈의 감미롭고도 시원한 보컬이 가사를 잘 표현해주고 있다. 또 이번 앨범에는 SG워너비 이석훈이 함께한 듀엣곡을 수록돼 눈길을 끈다. 한편 민경훈은 오는 30일 MNET ‘엠카운트다운’을 통해 컴백 무대를 가질 예정이다.\u001b[0m\n\u001b[0m                                                                                                                                                                                                                                                                                                                                                                                                                                                                                                                                                         ^\u001b[0m\n\u001b[0;31mSyntaxError\u001b[0m\u001b[0;31m:\u001b[0m EOL while scanning string literal\n"
     ]
    }
   ],
   "source": [
    "simple_text2 = \"[IMG1][이슈데일리 최준용기자]민경훈이 정규 2집 앨범 ‘소풍’을 통해 1년 4개월 만에 가요계에 컴백했다. 민경훈의 ‘소풍’은 27일 자정, 전 온라인 음원 사이트를 통해 공개됐다. 이번에 공개된 앨범에는 총 10곡 이 수록됐으며, 각 각의 곡 모두 다른 분위기와 창법으로 차별화를 시도했다. 특히 민경훈은 이번 앨범에서 직접 프로듀싱에 나섰으며, 자작곡은 물론 유명 작곡가 김도훈, 전해성, 김세진, 이창현, 더 네임, 강우현, 오승은, 스웨덴의 작곡가 Hal Marabel, Jonas Reingold 등이 참여해 완성도를 높였다. 타이틀곡인 ‘쉬(She)’는 김도훈과 최갑원이 작곡, 작사한 곡으로 여름과 어울리는 시원하고 빠른 템포의 곡이다. 또 이 곡은 사랑하는 사람에 대한 고백송으로 민경훈의 감미롭고도 시원한 보컬이 가사를 잘 표현해주고 있다. 또 이번 앨범에는 SG워너비 이석훈이 함께한 듀엣곡을 수록돼 눈길을 끈다. 한편 민경훈은 오는 30일 MNET ‘엠카운트다운’을 통해 컴백 무대를 가질 예정이다.\n",
    "\""
   ]
  },
  {
   "cell_type": "code",
   "execution_count": 8,
   "metadata": {},
   "outputs": [],
   "source": [
    "tokens2 = tokenizer.tokenize(simple_text2)"
   ]
  },
  {
   "cell_type": "code",
   "execution_count": 9,
   "metadata": {},
   "outputs": [
    {
     "name": "stdout",
     "output_type": "stream",
     "text": "['[', 'IM', '##G', '##1', ']', '[', '이슈', '##데', '##일리', '최준', '##용', '##기', '##자', ']', '민경', '##훈', '##이', '정규', '2', '##집', '앨범', '‘', '소풍', '’', '을', '통해', '1', '##년', '4', '##개', '##월', '만', '##에', '가요', '##계', '##에', '컴백', '##했', '##다', '.', '민경', '##훈', '##의', '‘', '소풍', '’', '은', '27', '##일', '자정', ',', '전', '온라인', '음원', '사이트', '##를', '통해', '공개', '##됐', '##다', '.', '이번', '##에', '공개', '##된', '앨범', '##에', '##는', '총', '10', '##곡', '이', '수록', '##됐', '##으며', ',', '각', '각', '##의', '곡', '모두', '다른', '분위기', '##와', '창', '##법', '##으로', '차별', '##화', '##를', '시도', '##했', '##다', '.', '특히', '민경', '##훈', '##은', '이번', '앨범', '##에서', '직접', '프로', '##듀', '##싱', '##에', '나섰', '##으며', ',', '자작', '##곡', '##은', '물론', '유명', '작곡가', '김도', '##훈', ',', '전해', '##성', ',', '김세', '##진', ',', '이창', '##현', ',', '더', '네임', ',', '강우', '##현', ',', '오', '##승', '##은', ',', '스웨덴', '##의', '작곡가', 'H', '##al', 'Mar', '##ab', '##el', ',', 'J', '##on', '##as', 'Re', '##ing', '##old', '등', '##이', '참여', '##해', '완성도', '##를', '높였', '##다', '.', '타이틀', '##곡', '##인', '‘', '쉬', '(', 'She', ')', '’', '는', '김도', '##훈', '##과', '최', '##갑', '##원', '##이', '작곡', ',', '작사', '##한', '곡', '##으로', '여름', '##과', '어울리', '##는', '시원', '##하고', '빠른', '템포', '##의', '곡', '##이다', '.', '또', '이', '곡', '##은', '사랑', '##하', '##는', '사람', '##에', '대한', '고백', '##송', '##으로', '민경', '##훈', '##의', '감미', '##롭', '##고', '##도', '시원', '##한', '보컬', '##이', '가사', '##를', '잘', '표현', '##해', '##주', '##고', '있', '##다', '.', '또', '이번', '앨범', '##에', '##는', 'SG', '##워', '##너', '##비', '이석', '##훈', '##이', '함께', '##한', '듀엣', '##곡', '##을', '수록', '##돼', '눈길', '##을', '끈다', '.', '한편', '민경', '##훈', '##은', '오', '##는', '30', '##일', 'M', '##N', '##ET', '‘', '엠', '##카운트', '##다운', '’', '을', '통해', '컴백', '무대', '##를', '가질', '예정', '##이다', '.']\n"
    }
   ],
   "source": [
    "print(tokens2)"
   ]
  },
  {
   "cell_type": "code",
   "execution_count": 7,
   "metadata": {},
   "outputs": [
    {
     "name": "stdout",
     "output_type": "stream",
     "text": "['[', 'O', 'S', 'E', 'N', '=', '강', '서', '정', '기', '자', ']', '김', '준', '희', ',', '한', '혜', '진', ',', '경', '리', '등', '의', 'S', 'N', 'S', '는', '그', '야', '말', '로', '‘', '다', '이', '어', '트', '자', '극', '사', '진', '’', '으', '로', '가', '득', '하', '다', '.', '운', '동', '하', '는', '모', '습', '을', '담', '은', '사', '진', '을', '공', '개', '하', '거', '나', '운', '동', '으', '로', '탄', '탄', '해', '진', '몸', '매', '를', '자', '랑', '하', '는', '이', '들', '의', '사', '진', '을', '보', '고', '있', '으', '면', '절', '로', '감', '탄', '이', '나', '올', '정', '도', '다', '.', '◆', '한', '혜', '진', '한', '혜', '진', '은', '놀', '라', '울', '정', '도', '로', '열', '심', '히', '운', '동', '하', '는', '모', '델', '이', '다', '.', '자', '신', '의', '몸', '매', '관', '리', '를', '위', '해', '꾸', '준', '히', '노', '력', '하', '고', '화', '보', '촬', '영', '전', '에', '는', '한', '달', '동', '안', '쌀', '과', '반', '찬', '을', '안', '먹', '을', '정', '도', '로', '철', '저', '하', '다', '.', '그', '가', 'S', 'N', 'S', '에', '게', '재', '한', '등', '근', '육', '사', '진', '이', '크', '게', '화', '제', '가', '되', '기', '도', '했', '다', '.', '◆', '김', '준', '희', '김', '준', '희', '의', 'S', 'N', 'S', '는', '‘', '다', '이', '어', '트', '의', '정', '석', '’', '이', '다', '.', '운', '동', '하', '는', '모', '습', '부', '터', '식', '단', '까', '지', '모', '든', '것', '이', '담', '겨', '있', '다', '.', '닭', '가', '슴', '살', '과', '샐', '러', '드', '에', '지', '친', '다', '이', '어', '터', '라', '면', '김', '준', '희', '의', 'S', 'N', 'S', '을', '팔', '로', '우', '하', '는', '것', '도', '좋', '을', '듯', '하', '다', '.', '거', '기', '다', '운', '동', '으', '로', '다', '져', '진', '몸', '매', '를', '보', '고', '있', '으', '면', '운', '동', '욕', '구', '가', '무', '한', '자', '극', '된', '다', '.', '◆', '장', '윤', '주', '장', '윤', '주', '는', '완', '벽', '한', '비', '율', '과', '각', '선', '미', '를', '자', '랑', '하', '는', '데', '여', '기', '에', '는', '그', '의', '피', '나', '는', '노', '력', '이', '있', '었', '다', '.', '방', '송', '에', '서', '출', '산', '후', '몸', '매', '를', '만', '들', '기', '위', '해', '필', '라', '테', '스', '를', '하', '는', '모', '습', '이', '공', '개', '되', '기', '도', '했', '다', '.', '특', '히', '출', '산', '후', '에', '도', '여', '전', '한', '몸', '매', '를', '자', '랑', '하', '는', '그', '는', '주', '부', '들', '의', '다', '이', '어', '트', '를', '자', '극', '하', '기', '도', '.', '◆', '손', '나', '은', '손', '나', '은', '은', '굴', '곡', '진', '몸', '매', '가', '돋', '보', '이', '는', '아', '이', '돌', '이', '다', '.', '다', '이', '어', '트', '식', '품', '모', '델', '로', '도', '활', '동', '하', '고', '있', '는', '손', '나', '은', '은', '데', '뷔', '초', '와', '달', '리', '늘', '씬', '한', '몸', '매', '로', '부', '러', '움', '을', '사', '고', '있', '다', '.', '◆', '제', '시', '가', '슴', '성', '형', '수', '술', '을', '당', '당', '하', '게', '고', '백', '한', '제', '시', '는', '볼', '륨', '있', '는', '몸', '매', '를', '자', '랑', '한', '다', '.', '하', '지', '만', '그', '의', '잘', '록', '한', '허', '리', '도', '감', '탄', '을', '자', '아', '낼', '정', '도', '.', '비', '키', '니', '부', '터', '트', '레', '이', '닝', '복', '까', '지', '완', '벽', '하', '게', '소', '화', '하', '는', '몸', '매', '의', '소', '유', '자', '다', '.', '◆', '신', '수', '지', '신', '수', '지', '는', '리', '듬', '체', '조', '전', '국', '가', '대', '표', '출', '신', '답', '게', '탄', '탄', '하', '면', '서', '도', '볼', '륨', '감', '있', '는', '몸', '매', '가', '돋', '보', '인', '다', '.', 'S', 'N', 'S', '에', '서', '플', '라', '잉', '요', '가', '로', '유', '연', '한', '몸', '을', '뽐', '내', '는', '것', '은', '물', '론', '부', '러', '움', '을', '자', '아', '내', '는', '각', '선', '미', '가', '눈', '길', '을', '끈', '다', '.', '◆', '경', '리', '경', '리', '는', '잘', '록', '한', '허', '리', '가', '돋', '보', '이', '는', 'S', '라', '인', '몸', '매', '가', '매', '력', '적', '이', '다', '.', '몸', '매', '가', '드', '러', '나', '는', '의', '상', '을', '입', '어', '도', '전', '혀', '굴', '욕', '없', '는', '몸', '매', '는', '여', '성', '들', '의', '워', '너', '비', '다', '.', '/', 'k', 'a', 'n', 'g', 's', 'j', '@', 'o', 's', 'e', 'n', '.', 'c', 'o', '.', 'k', 'r', '[', '사', '진', ']', '김', '준', '희', ',', '한', '혜', '진', ',', '장', '윤', '주', ',', '손', '나', '은', ',', '제', '시', ',', '신', '수', '지', ',', '경', '리', '인', '스', '타', '그', '램', \"'\", ',', \"'\", 'q', 'u', 'e', 's', 't', 'i', 'o', 'n', \"'\", ':', \"'\", '손', '나', '은', '은', '무', '슨', '모', '델', '로', '도', '활', '동', '하', '고', '있', '는', '가', '?']\n"
    }
   ],
   "source": [
    "print(remove_press(simple_text))"
   ]
  },
  {
   "cell_type": "code",
   "execution_count": null,
   "metadata": {},
   "outputs": [],
   "source": []
  }
 ]
}