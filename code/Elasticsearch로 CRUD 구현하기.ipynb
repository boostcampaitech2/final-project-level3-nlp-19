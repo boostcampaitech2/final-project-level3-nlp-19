{
 "cells": [
  {
   "cell_type": "code",
   "execution_count": 1,
   "id": "b0e08c41",
   "metadata": {},
   "outputs": [],
   "source": [
    "from elasticsearch import Elasticsearch\n",
    "\n",
    "es = Elasticsearch()"
   ]
  },
  {
   "cell_type": "markdown",
   "id": "415b5b98",
   "metadata": {},
   "source": [
    "## Table Create"
   ]
  },
  {
   "cell_type": "code",
   "execution_count": null,
   "id": "4f52963d",
   "metadata": {},
   "outputs": [],
   "source": [
    "# db 이름 설정\n",
    "INDEX_NAME = \"test_index\"\n",
    "\n",
    "# db 셋팅\n",
    "INDEX_SETTINGS = {\n",
    "\"settings\" : {\n",
    "    \"index\":{\n",
    "    \"analysis\":{\n",
    "        \"analyzer\":{\n",
    "        \"korean\":{\n",
    "            \"type\":\"custom\",\n",
    "            \"tokenizer\":\"nori_tokenizer\",\n",
    "            \"filter\": [ \"shingle\" ],\n",
    "\n",
    "        }\n",
    "        }\n",
    "    }\n",
    "    }\n",
    "},\n",
    "\"mappings\": {\n",
    "\n",
    "    \"properties\" : {\n",
    "        \"context\" : {\n",
    "        \"type\" : \"text\",\n",
    "        \"analyzer\": \"korean\",\n",
    "        \"search_analyzer\": \"korean\"\n",
    "        }\n",
    "        \n",
    "        \"title\" : {\n",
    "        \"type\" : \"text\",\n",
    "        \"analyzer\": \"korean\",\n",
    "        \"search_analyzer\": \"korean\"\n",
    "        }\n",
    "    }\n",
    "\n",
    "}\n",
    "}\n"
   ]
  },
  {
   "cell_type": "code",
   "execution_count": null,
   "id": "3f377366",
   "metadata": {},
   "outputs": [],
   "source": [
    "def create_index(index):\n",
    "    if not es.indices.exists(index=index):\n",
    "        return es.indices.create(index=index)"
   ]
  },
  {
   "cell_type": "code",
   "execution_count": 2,
   "id": "f5e432c1",
   "metadata": {},
   "outputs": [],
   "source": [
    "def insert(body):\n",
    "    return es.index(index=index, doc_type=doc_type, body=body)\n",
    "\n",
    "\n",
    "'''\n",
    "index = 'news'\n",
    "doc_type = 'daum'\n",
    "data = {\n",
    "    'date' : '20200811',\n",
    "    'category' : 'society',\n",
    "    'title' : '유령'은 어느 행성에서 지구로 왔는가?'\n",
    "    'content' : '크립톤 행성'\n",
    "}\n",
    "\n",
    "ir = insert(data)\n",
    "'''"
   ]
  },
  {
   "cell_type": "markdown",
   "id": "24c4b862",
   "metadata": {},
   "source": [
    "## Table Read"
   ]
  },
  {
   "cell_type": "code",
   "execution_count": null,
   "id": "d2619677",
   "metadata": {},
   "outputs": [],
   "source": [
    "def search(index, data=None):\n",
    "    if data is None:\n",
    "        data = {\"match_all\" : {}}\n",
    "    else:\n",
    "        data = {\"match\" : data}\n",
    "    body = {\"query\" : data}\n",
    "    res = es.search(index=index, body=body)\n",
    "    \n",
    "'''\n",
    "sr = search(index, {'category': 'society'})\n",
    "pprint.pprint(sr)\n",
    "'''"
   ]
  },
  {
   "cell_type": "markdown",
   "id": "7376d7b7",
   "metadata": {},
   "source": [
    "## Table Update"
   ]
  },
  {
   "cell_type": "code",
   "execution_count": null,
   "id": "5fa626d1",
   "metadata": {},
   "outputs": [],
   "source": [
    "def update(id, doc):\n",
    "    body = {'doc' : doc}\n",
    "    res = es.update(index=index, id=id, body=body, doc_type=doc_type)\n",
    "    return res\n",
    "\n",
    "ir = insert(data)\n",
    "ur = update(ir['_id'], {newspaper:'sbs'})\n",
    "pprint.pprint(ur)"
   ]
  },
  {
   "cell_type": "markdown",
   "id": "ce70ce16",
   "metadata": {},
   "source": [
    "## Table Delete"
   ]
  },
  {
   "cell_type": "code",
   "execution_count": null,
   "id": "5c35beba",
   "metadata": {},
   "outputs": [],
   "source": [
    "def delete_index(index):\n",
    "    if not es.indices.exists(index=index):\n",
    "        return es.indices.delete(index=index)"
   ]
  },
  {
   "cell_type": "code",
   "execution_count": null,
   "id": "46e630a8",
   "metadata": {},
   "outputs": [],
   "source": [
    "def delete_by_id(index, id):\n",
    "    return es.delete(index, id=id)"
   ]
  }
 ],
 "metadata": {
  "kernelspec": {
   "display_name": "Python 3",
   "language": "python",
   "name": "python3"
  },
  "language_info": {
   "codemirror_mode": {
    "name": "ipython",
    "version": 3
   },
   "file_extension": ".py",
   "mimetype": "text/x-python",
   "name": "python",
   "nbconvert_exporter": "python",
   "pygments_lexer": "ipython3",
   "version": "3.8.5"
  }
 },
 "nbformat": 4,
 "nbformat_minor": 5
}
