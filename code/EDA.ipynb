{
 "cells": [
  {
   "cell_type": "code",
   "execution_count": 3,
   "metadata": {},
   "outputs": [
    {
     "name": "stdout",
     "output_type": "stream",
     "text": [
      "   id                                            context  \\\n",
      "0   0  중국의 한 여성 경찰이 아파트에서 추락하던 3세 아이를 살리고 자신은 혼수상태에 빠...   \n",
      "1   1  중국의 한 여성 경찰이 아파트에서 추락하던 3세 아이를 살리고 자신은 혼수상태에 빠...   \n",
      "2   2  중국의 한 여성 경찰이 아파트에서 추락하던 3세 아이를 살리고 자신은 혼수상태에 빠...   \n",
      "3   3  중국의 한 여성 경찰이 아파트에서 추락하던 3세 아이를 살리고 자신은 혼수상태에 빠...   \n",
      "4   4  중국의 한 여성 경찰이 아파트에서 추락하던 3세 아이를 살리고 자신은 혼수상태에 빠...   \n",
      "\n",
      "                                           question  \\\n",
      "0  중국에서 아파트에서 추락하던 3세 아이를 살리고 자신은 혼수상태에 빠진 사람은 누구야?   \n",
      "1     천중핑씨가 추락하는 아이를 구하고 뇌출혈로 인한 의식불명 상태에  빠진건 언제야?   \n",
      "2                       천중핑씨가 보조 교통 경찰로 일하는 곳은 어디야?   \n",
      "3            천중핑의 선행 사실을 접한 중국 기업 알리바바는 무엇을 하기로 했어?   \n",
      "4                                     천중핑씨의 상태는 어때?   \n",
      "\n",
      "                                             answers  \n",
      "0  [{'answer_start': 134, 'text': '보조 교통 경찰로 일하는 ...  \n",
      "1         [{'answer_start': 157, 'text': '지난달 28일'}]  \n",
      "2      [{'answer_start': 122, 'text': '구이저우성 카일리시'}]  \n",
      "3  [{'answer_start': 835, 'text': '‘중국의 좋은 이웃상’과 ...  \n",
      "4  [{'answer_start': 502, 'text': '이틀 간의 코마 상태 이후...  \n",
      "(18116, 4)\n",
      "18116\n"
     ]
    }
   ],
   "source": [
    "import pandas as pd\n",
    "\n",
    "df = pd.read_csv('../Real_data/train/valid.csv', encoding='utf-8')\n",
    "print(df.head(5))\n",
    "print(df.shape)\n",
    "print(len(df))"
   ]
  },
  {
   "cell_type": "code",
   "execution_count": 14,
   "metadata": {},
   "outputs": [
    {
     "name": "stdout",
     "output_type": "stream",
     "text": [
      "   id                                            context  \\\n",
      "0   0  중국의 한 여성 경찰이 아파트에서 추락하던 3세 아이를 살리고 자신은 혼수상태에 빠...   \n",
      "1   1  중국의 한 여성 경찰이 아파트에서 추락하던 3세 아이를 살리고 자신은 혼수상태에 빠...   \n",
      "2   2  중국의 한 여성 경찰이 아파트에서 추락하던 3세 아이를 살리고 자신은 혼수상태에 빠...   \n",
      "3   3  중국의 한 여성 경찰이 아파트에서 추락하던 3세 아이를 살리고 자신은 혼수상태에 빠...   \n",
      "4   4  중국의 한 여성 경찰이 아파트에서 추락하던 3세 아이를 살리고 자신은 혼수상태에 빠...   \n",
      "\n",
      "                                           question  \\\n",
      "0  중국에서 아파트에서 추락하던 3세 아이를 살리고 자신은 혼수상태에 빠진 사람은 누구야?   \n",
      "1     천중핑씨가 추락하는 아이를 구하고 뇌출혈로 인한 의식불명 상태에  빠진건 언제야?   \n",
      "2                       천중핑씨가 보조 교통 경찰로 일하는 곳은 어디야?   \n",
      "3            천중핑의 선행 사실을 접한 중국 기업 알리바바는 무엇을 하기로 했어?   \n",
      "4                                     천중핑씨의 상태는 어때?   \n",
      "\n",
      "                                             answers  \n",
      "0  {'answer_start': [134], 'text': ['보조 교통 경찰로 일하...  \n",
      "1       {'answer_start': [157], 'text': ['지난달 28일']}  \n",
      "2    {'answer_start': [122], 'text': ['구이저우성 카일리시']}  \n",
      "3  {'answer_start': [835], 'text': ['‘중국의 좋은 이웃상’...  \n",
      "4  {'answer_start': [502], 'text': ['이틀 간의 코마 상태 ...  \n"
     ]
    }
   ],
   "source": [
    "ids = []\n",
    "contexts = []\n",
    "questions = []\n",
    "answers = []\n",
    "\n",
    "for idx in range(len(df)):\n",
    "    ids.append(df['id'][idx])\n",
    "    contexts.append(df['context'][idx])\n",
    "    questions.append(df['question'][idx])\n",
    "    \n",
    "    answer = eval(df['answers'][idx].lstrip('[').rstrip(']'))\n",
    "    answers.append({'answer_start': [answer['answer_start']], 'text': [answer['text']]})\n",
    "\n",
    "dictionary = {'id': ids, 'context': contexts, 'question': questions, 'answers': answers}\n",
    "valid_df = pd.DataFrame(dictionary)\n",
    "\n",
    "print(valid_df.head(5))\n",
    "\n",
    "valid_df.to_csv('valid_ver1.csv', index=False)"
   ]
  },
  {
   "cell_type": "code",
   "execution_count": null,
   "metadata": {},
   "outputs": [],
   "source": []
  }
 ],
 "metadata": {
  "interpreter": {
   "hash": "e31c68abf1d5dd3f9e2269f23eadf1b199587e56c0618a30760176a65ebfcab4"
  },
  "kernelspec": {
   "display_name": "Python 3.7.11 64-bit ('lightweight': conda)",
   "language": "python",
   "name": "python3"
  },
  "language_info": {
   "codemirror_mode": {
    "name": "ipython",
    "version": 3
   },
   "file_extension": ".py",
   "mimetype": "text/x-python",
   "name": "python",
   "nbconvert_exporter": "python",
   "pygments_lexer": "ipython3",
   "version": "3.7.11"
  },
  "orig_nbformat": 4
 },
 "nbformat": 4,
 "nbformat_minor": 2
}
