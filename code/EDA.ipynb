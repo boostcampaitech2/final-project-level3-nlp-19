{
 "cells": [
  {
   "cell_type": "code",
   "execution_count": null,
   "metadata": {},
   "outputs": [],
   "source": [
    "import pandas as pd\n",
    "\n",
    "df = pd.read_csv('../Real_data/train/valid.csv', encoding='utf-8')\n",
    "print(df.head(5))\n",
    "print(df.shape)\n",
    "print(len(df))"
   ]
  },
  {
   "cell_type": "code",
   "execution_count": null,
   "metadata": {},
   "outputs": [],
   "source": [
    "ids = []\n",
    "contexts = []\n",
    "questions = []\n",
    "answers = []\n",
    "\n",
    "for idx in range(len(df)):\n",
    "    ids.append(df['id'][idx])\n",
    "    contexts.append(df['context'][idx])\n",
    "    questions.append(df['question'][idx])\n",
    "    \n",
    "    answer = eval(df['answers'][idx].lstrip('[').rstrip(']'))\n",
    "    answers.append({'answer_start': [answer['answer_start']], 'text': [answer['text']]})\n",
    "\n",
    "dictionary = {'id': ids, 'context': contexts, 'question': questions, 'answers': answers}\n",
    "valid_df = pd.DataFrame(dictionary)\n",
    "\n",
    "print(valid_df.head(5))\n",
    "\n",
    "valid_df.to_csv('valid_ver1.csv', index=False)"
   ]
  },
  {
   "cell_type": "code",
   "execution_count": 1,
   "metadata": {},
   "outputs": [
    {
     "name": "stdout",
     "output_type": "stream",
     "text": [
      "   id                                            context  \\\n",
      "0   0  한국청소년단체협의회와 여성가족부는 22일부터 28일까지 서울과 충북 괴산에서 '국제...   \n",
      "1   1  한국청소년단체협의회와 여성가족부는 22일부터 28일까지 서울과 충북 괴산에서 '국제...   \n",
      "2   2  한국청소년단체협의회와 여성가족부는 22일부터 28일까지 서울과 충북 괴산에서 '국제...   \n",
      "3   3  한국청소년단체협의회와 여성가족부는 22일부터 28일까지 서울과 충북 괴산에서 '국제...   \n",
      "4   4  [헤럴드POP=고승아 기자]그룹 구구단 샐리가 리듬체조에서 실수했다.15일 방송된 ...   \n",
      "\n",
      "                        question  \\\n",
      "0  서울과 충북 괴산에서 '국제청소년포럼'을 여는 곳은?   \n",
      "1            '국제 청소년포럼'이 열리는 때는?   \n",
      "2                    이번 포럼의 주제는?   \n",
      "3                 포럼은 어떻게 진행되는가?   \n",
      "4      아육대에서 리듬체조에 출전한 구구단의 멤버는?   \n",
      "\n",
      "                                             answers  \n",
      "0  {'answer_start': [0], 'text': ['한국청소년단체협의회와 여성...  \n",
      "1      {'answer_start': [19], 'text': ['22일부터 28일']}  \n",
      "2   {'answer_start': [157], 'text': [\"'청소년과 뉴미디어'\"]}  \n",
      "3  {'answer_start': [232], 'text': [\"기조강연을 시작으로 국...  \n",
      "4             {'answer_start': [22], 'text': ['샐리']}  \n",
      "(226894, 4)\n",
      "226894\n"
     ]
    }
   ],
   "source": [
    "import pandas as pd\n",
    "\n",
    "df = pd.read_csv('../data/train/train_ver1.csv', encoding='utf-8')\n",
    "print(df.head(5))\n",
    "print(df.shape)\n",
    "print(len(df))"
   ]
  },
  {
   "cell_type": "code",
   "execution_count": 3,
   "metadata": {},
   "outputs": [
    {
     "name": "stdout",
     "output_type": "stream",
     "text": [
      "   id                                            context  \\\n",
      "0   0  한국청소년단체협의회와 여성가족부는 22일부터 28일까지 서울과 충북 괴산에서 '국제...   \n",
      "1   1  한국청소년단체협의회와 여성가족부는 22일부터 28일까지 서울과 충북 괴산에서 '국제...   \n",
      "2   2  한국청소년단체협의회와 여성가족부는 22일부터 28일까지 서울과 충북 괴산에서 '국제...   \n",
      "3   3  한국청소년단체협의회와 여성가족부는 22일부터 28일까지 서울과 충북 괴산에서 '국제...   \n",
      "4   4  [헤럴드POP=고승아 기자]그룹 구구단 샐리가 리듬체조에서 실수했다.15일 방송된 ...   \n",
      "\n",
      "                        question  \\\n",
      "0  서울과 충북 괴산에서 '국제청소년포럼'을 여는 곳은?   \n",
      "1            '국제 청소년포럼'이 열리는 때는?   \n",
      "2                    이번 포럼의 주제는?   \n",
      "3                 포럼은 어떻게 진행되는가?   \n",
      "4      아육대에서 리듬체조에 출전한 구구단의 멤버는?   \n",
      "\n",
      "                                             answers  \n",
      "0  {'answer_start': [0], 'text': ['한국청소년단체협의회와 여성...  \n",
      "1      {'answer_start': [19], 'text': ['22일부터 28일']}  \n",
      "2   {'answer_start': [157], 'text': [\"'청소년과 뉴미디어'\"]}  \n",
      "3  {'answer_start': [232], 'text': [\"기조강연을 시작으로 국...  \n",
      "4             {'answer_start': [22], 'text': ['샐리']}  \n"
     ]
    }
   ],
   "source": [
    "df = df[:5000]\n",
    "print(df.head(5))\n",
    "\n",
    "df.to_csv('train_small.csv', index=False)"
   ]
  },
  {
   "cell_type": "code",
   "execution_count": 1,
   "metadata": {},
   "outputs": [
    {
     "name": "stdout",
     "output_type": "stream",
     "text": [
      "   id                                            context  \\\n",
      "0   0  중국의 한 여성 경찰이 아파트에서 추락하던 3세 아이를 살리고 자신은 혼수상태에 빠...   \n",
      "1   1  중국의 한 여성 경찰이 아파트에서 추락하던 3세 아이를 살리고 자신은 혼수상태에 빠...   \n",
      "2   2  중국의 한 여성 경찰이 아파트에서 추락하던 3세 아이를 살리고 자신은 혼수상태에 빠...   \n",
      "3   3  중국의 한 여성 경찰이 아파트에서 추락하던 3세 아이를 살리고 자신은 혼수상태에 빠...   \n",
      "4   4  중국의 한 여성 경찰이 아파트에서 추락하던 3세 아이를 살리고 자신은 혼수상태에 빠...   \n",
      "\n",
      "                                           question  \\\n",
      "0  중국에서 아파트에서 추락하던 3세 아이를 살리고 자신은 혼수상태에 빠진 사람은 누구야?   \n",
      "1     천중핑씨가 추락하는 아이를 구하고 뇌출혈로 인한 의식불명 상태에  빠진건 언제야?   \n",
      "2                       천중핑씨가 보조 교통 경찰로 일하는 곳은 어디야?   \n",
      "3            천중핑의 선행 사실을 접한 중국 기업 알리바바는 무엇을 하기로 했어?   \n",
      "4                                     천중핑씨의 상태는 어때?   \n",
      "\n",
      "                                             answers  \n",
      "0  {'answer_start': [134], 'text': ['보조 교통 경찰로 일하...  \n",
      "1       {'answer_start': [157], 'text': ['지난달 28일']}  \n",
      "2    {'answer_start': [122], 'text': ['구이저우성 카일리시']}  \n",
      "3  {'answer_start': [835], 'text': ['‘중국의 좋은 이웃상’...  \n",
      "4  {'answer_start': [502], 'text': ['이틀 간의 코마 상태 ...  \n",
      "(18116, 4)\n",
      "18116\n",
      "   id                                            context  \\\n",
      "0   0  중국의 한 여성 경찰이 아파트에서 추락하던 3세 아이를 살리고 자신은 혼수상태에 빠...   \n",
      "1   1  중국의 한 여성 경찰이 아파트에서 추락하던 3세 아이를 살리고 자신은 혼수상태에 빠...   \n",
      "2   2  중국의 한 여성 경찰이 아파트에서 추락하던 3세 아이를 살리고 자신은 혼수상태에 빠...   \n",
      "3   3  중국의 한 여성 경찰이 아파트에서 추락하던 3세 아이를 살리고 자신은 혼수상태에 빠...   \n",
      "4   4  중국의 한 여성 경찰이 아파트에서 추락하던 3세 아이를 살리고 자신은 혼수상태에 빠...   \n",
      "\n",
      "                                           question  \\\n",
      "0  중국에서 아파트에서 추락하던 3세 아이를 살리고 자신은 혼수상태에 빠진 사람은 누구야?   \n",
      "1     천중핑씨가 추락하는 아이를 구하고 뇌출혈로 인한 의식불명 상태에  빠진건 언제야?   \n",
      "2                       천중핑씨가 보조 교통 경찰로 일하는 곳은 어디야?   \n",
      "3            천중핑의 선행 사실을 접한 중국 기업 알리바바는 무엇을 하기로 했어?   \n",
      "4                                     천중핑씨의 상태는 어때?   \n",
      "\n",
      "                                             answers  \n",
      "0  {'answer_start': [134], 'text': ['보조 교통 경찰로 일하...  \n",
      "1       {'answer_start': [157], 'text': ['지난달 28일']}  \n",
      "2    {'answer_start': [122], 'text': ['구이저우성 카일리시']}  \n",
      "3  {'answer_start': [835], 'text': ['‘중국의 좋은 이웃상’...  \n",
      "4  {'answer_start': [502], 'text': ['이틀 간의 코마 상태 ...  \n"
     ]
    }
   ],
   "source": [
    "import pandas as pd\n",
    "\n",
    "df = pd.read_csv('../data/train/valid_ver1.csv', encoding='utf-8')\n",
    "print(df.head(5))\n",
    "print(df.shape)\n",
    "print(len(df))\n",
    "\n",
    "df = df[:500]\n",
    "print(df.head(5))\n",
    "\n",
    "df.to_csv('valid_small.csv', index=False)"
   ]
  },
  {
   "cell_type": "code",
   "execution_count": null,
   "metadata": {},
   "outputs": [],
   "source": [
    "import os\n",
    "\n",
    "from datasets import load_dataset\n",
    "\n",
    "PATH = '../data/train'\n",
    "datasets = load_dataset('csv', data_files={'train':os.path.join(PATH, 'train_ver1.csv'), 'validation': os.path.join(PATH, 'valid_ver1.csv')})\n",
    "\n",
    "print(datasets)"
   ]
  },
  {
   "cell_type": "code",
   "execution_count": null,
   "metadata": {},
   "outputs": [],
   "source": [
    "datasets = datasets['train'][:40000]\n",
    "\n",
    "print(datasets[:5])"
   ]
  },
  {
   "cell_type": "code",
   "execution_count": null,
   "metadata": {},
   "outputs": [],
   "source": []
  }
 ],
 "metadata": {
  "interpreter": {
   "hash": "e31c68abf1d5dd3f9e2269f23eadf1b199587e56c0618a30760176a65ebfcab4"
  },
  "kernelspec": {
   "display_name": "Python 3.7.11 64-bit ('lightweight': conda)",
   "language": "python",
   "name": "python3"
  },
  "language_info": {
   "codemirror_mode": {
    "name": "ipython",
    "version": 3
   },
   "file_extension": ".py",
   "mimetype": "text/x-python",
   "name": "python",
   "nbconvert_exporter": "python",
   "pygments_lexer": "ipython3",
   "version": "3.7.11"
  },
  "orig_nbformat": 4
 },
 "nbformat": 4,
 "nbformat_minor": 2
}
